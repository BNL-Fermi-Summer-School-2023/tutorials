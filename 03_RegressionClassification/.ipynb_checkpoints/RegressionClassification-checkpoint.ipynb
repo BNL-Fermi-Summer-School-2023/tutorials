{
 "cells": [
  {
   "cell_type": "code",
   "execution_count": null,
   "id": "0299f3af-0e57-4900-a83f-7f88c647a86b",
   "metadata": {
    "tags": []
   },
   "outputs": [],
   "source": [
    "%load_ext autoreload\n",
    "%autoreload 2\n",
    "%config Completer.use_jedi = False"
   ]
  },
  {
   "cell_type": "code",
   "execution_count": null,
   "id": "c151f636-479a-40b0-b118-ffcd8c6ba9dc",
   "metadata": {
    "tags": []
   },
   "outputs": [],
   "source": [
    "import matplotlib.pyplot as plt\n",
    "import matplotlib as mpl\n",
    "import numpy as np"
   ]
  },
  {
   "cell_type": "code",
   "execution_count": null,
   "id": "3fbcfafb-ad8c-4ef2-bbca-6e6283dec613",
   "metadata": {
    "tags": []
   },
   "outputs": [],
   "source": [
    "mpl.rcParams['mathtext.fontset'] = 'stix'\n",
    "mpl.rcParams['font.family'] = 'STIXGeneral'\n",
    "mpl.rcParams['text.usetex'] = False\n",
    "plt.rc('xtick', labelsize=12)\n",
    "plt.rc('ytick', labelsize=12)\n",
    "plt.rc('axes', labelsize=12)\n",
    "mpl.rcParams['figure.dpi'] = 300"
   ]
  },
  {
   "cell_type": "markdown",
   "id": "b7f592eb-ad45-414f-acad-d6e2a51a5f26",
   "metadata": {
    "tags": []
   },
   "source": [
    "# Regression and Classification"
   ]
  },
  {
   "cell_type": "markdown",
   "id": "ecae89be-1442-43a9-aa9a-2cbff70f4ce5",
   "metadata": {},
   "source": [
    "Written by: [Matthew R. Carbone](https://www.bnl.gov/staff/mcarbone) | _Assistant Computational Scientist, Computational Science Initiative, Brookhaven National Laboratory_"
   ]
  },
  {
   "cell_type": "markdown",
   "id": "f2eaf124-eb7b-41c7-b4f1-6792fd8fec3b",
   "metadata": {},
   "source": [
    "In this tutorial, we're going to go over the fundamentals of regression and classification, which are the two most common types of supervised learning. We will also discuss some of the best practices in machine learning, such as a train-validation-testing split. In regression problems, the objective is to learn a _continuous_ output. In classification problems, the objective is to learn a _discrete_ output. Here are some examples:\n",
    "- Predicting the cost of a house from its properties, such as square footage, number of bathrooms, etc. is a _regression_ problem.\n",
    "- Whether or not an image is of a cat or dog is a _classification_ problem.\n",
    "- Predicting the type of animal in an image is a _classification_ problem."
   ]
  },
  {
   "cell_type": "markdown",
   "id": "0df42443-4fbb-47a6-bb3a-b96c92f5e675",
   "metadata": {},
   "source": [
    "**Learning objectives:**\n",
    "- Understand a variety of regression and classification algorithms.\n",
    "- Start to explore some of the fundamental concepts in machine learning, such as splitting data, overfitting, etc."
   ]
  },
  {
   "cell_type": "markdown",
   "id": "e132cd22-31cc-4bb0-8823-a6d6c2e4704a",
   "metadata": {},
   "source": [
    "Regression and classification problems can be solved via a variety of different methods (or _models_). In this tutorial, we're going to go over the following types of models, which will form the backbone of your understanding for e.g. neural networks, and other types of machine learning, later on.\n",
    "- Linear regression\n",
    "- Polynomial regression\n",
    "- Logistic regression\n",
    "\n",
    "There are numerous [other types of models](https://www.listendata.com/2018/03/regression-analysis.html#Linear-Regression) which we simply won't have the time to dive into, but paradigmatically, the objective of all of these models is the same. Given some input, predict some output."
   ]
  },
  {
   "cell_type": "markdown",
   "id": "c99a2ca3-4048-46ab-b1af-2ef87b9abd16",
   "metadata": {},
   "source": []
  },
  {
   "cell_type": "code",
   "execution_count": null,
   "id": "3b0075f0-3b09-4d0e-9969-2b3669baafda",
   "metadata": {},
   "outputs": [],
   "source": []
  }
 ],
 "metadata": {
  "kernelspec": {
   "display_name": "Python 3 (ipykernel)",
   "language": "python",
   "name": "python3"
  },
  "language_info": {
   "codemirror_mode": {
    "name": "ipython",
    "version": 3
   },
   "file_extension": ".py",
   "mimetype": "text/x-python",
   "name": "python",
   "nbconvert_exporter": "python",
   "pygments_lexer": "ipython3",
   "version": "3.9.16"
  }
 },
 "nbformat": 4,
 "nbformat_minor": 5
}
