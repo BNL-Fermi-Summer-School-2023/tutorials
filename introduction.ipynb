{
 "cells": [
  {
   "attachments": {},
   "cell_type": "markdown",
   "metadata": {},
   "source": [
    "## A lovely introduction that is both polite and painfully trying to reach college age students who I don't think I'm older than but at this point. Am older than. "
   ]
  },
  {
   "attachments": {},
   "cell_type": "markdown",
   "metadata": {},
   "source": [
    "## Learning Objectives \n",
    "\n",
    "By the end of this session you should know how to......\n",
    "\n",
    "* Open a notebook in colab (You are here!)\n",
    "* Use basic python commands and syntax\n",
    "* Download contents of a git repository\n",
    "* Set up a conda virtual envorinment\n",
    "* Download common libraries are useful for AI/ML\n",
    "* Make a function that opens another file "
   ]
  },
  {
   "attachments": {},
   "cell_type": "markdown",
   "metadata": {},
   "source": [
    "## Python Logic\n",
    "\n",
    "\n",
    "Like most things in computers, the logic in python is based on binaries. \n",
    "If you want the computer to do something, it needs binary yes/no instructions on what to execute.\n",
    "These are called \"boolans\" in coding (and a lot of other contexts). \n",
    "\n",
    "\n",
    "We use logical operators (==, >, <, in, not) to make boolan statements that to stear the code. \n",
    "To do something something with those statements, we then use loops.  "
   ]
  },
  {
   "attachments": {},
   "cell_type": "markdown",
   "metadata": {},
   "source": [
    "\n",
    "\n",
    "### If/Else Loops \n",
    "\n",
    "`if` is a command in python to check a boolan.\n",
    "_if_ that statement is true, the code proceeds to do the thing in the loop. \n",
    "_if_ it's not, it goes to the next piece of code without iteracting with the contents of the loop. \n",
    "\n",
    "`else` and `elif` are the counterparts to `if`. \n",
    "_if_ the boolan given to the `if` is false, it doesn't execute the `if`. \n",
    "In that case, it goes onto the next statement. \n",
    "The `else` can be that next statement, which isn't executed by the `if`. It's basically a `if not`. \n",
    "\n",
    "`elif` is a way to add an extra condition to that `if not`. \n",
    "(Basically `if (not A) and (B)`). \n",
    "\n",
    "### For Loops\n",
    "\n",
    "`for` is a shortcut in python (and other langauges) to keep running until you run out of objects in an iterable (something you cna iterate/loop over).\n",
    "It's sort of like a $\\Sigma$ notation, but you not limited to only performing sums in that loop. "
   ]
  },
  {
   "cell_type": "code",
   "execution_count": null,
   "metadata": {},
   "outputs": [],
   "source": [
    "# Test if a number is even\n",
    "number = 6\n",
    "if number%2 == 0: # modulus operator\n",
    "    print(\"This number is even!\")\n",
    "else: \n",
    "    print(\"This number is odd\")"
   ]
  },
  {
   "cell_type": "code",
   "execution_count": null,
   "metadata": {},
   "outputs": [],
   "source": [
    "# Printing every number in a list\n",
    "for number in [1,2,3,4,5]: \n",
    "    print(number)"
   ]
  },
  {
   "attachments": {},
   "cell_type": "markdown",
   "metadata": {},
   "source": [
    "### Knowledge Checkpoint! \n",
    "\n",
    "If you've got the idea down, now is the time to check that. \n",
    "\n",
    "Below is the skeleton for a function (don't worry if the term is confusing, we'll explain that in a second) that make a list of numbers 1 to N. Write a function that: \n",
    "\n",
    "1. Checks if the number is odd or even \n",
    "2. Adds the even numbers \n",
    "3. Skips the odd numbers \n",
    "\n",
    "Execute the below cell to verify you've got the right results!\n",
    "\n",
    "(hint: If you're struggling, make sure the code is doing what you think it's doing by using a `print` statement on the variable you're unsure about.)"
   ]
  },
  {
   "cell_type": "code",
   "execution_count": null,
   "metadata": {},
   "outputs": [],
   "source": [
    "def even_adder(n_digits=20): \n",
    "    \n",
    "    digit_list = [i+1 for i in range(n_digits)]\n",
    "    even_sum = 0 \n",
    "    for digit in \"\":\n",
    "        if '': \n",
    "            even_sum = \"\"\n",
    "        else: \n",
    "            ''\n",
    "\n",
    "    return even_sum "
   ]
  },
  {
   "cell_type": "code",
   "execution_count": null,
   "metadata": {},
   "outputs": [],
   "source": [
    "assert even_adder(20) == 110\n",
    "assert even_adder(12) == 42\n",
    "assert even_adder(4) == 6"
   ]
  },
  {
   "attachments": {},
   "cell_type": "markdown",
   "metadata": {},
   "source": [
    "### Functions and operations\n",
    "In python, functions are just ways to executing the same code over different inputs. \n",
    "The same way $f(x,y)$ can give you 5 or 9, depending on what x and y you give f as an input, the same applies to functions. \n",
    "\n",
    "If you ever find an operation you will probably repeat at another point in your code, it's a good idea to put it in a function! \n",
    "\n",
    "To make a function, it needs to be defined (using `def`), it needs to take inputs (using `()`), and it can to return something (with `return`). \n",
    "This is hard to describe in words so there's some examples below. Hopefully that is more helpful. \n",
    "\n",
    "Functions can also be given defaults, by assigning the input when you write the function.\n",
    " This means when someone uses that function, they don't need to give that variable a value. \n",
    " It will just take that default. \n",
    " It's a nice shortcut if you have a lot of things going on in the code and don't want to replace the variables all the time, just sometimes. "
   ]
  },
  {
   "cell_type": "code",
   "execution_count": null,
   "metadata": {},
   "outputs": [],
   "source": [
    "# Basic examples\n",
    "\n",
    "def do_addition(x, y): \n",
    "    return x + y \n",
    "\n",
    "def open_file(file_path): \n",
    "    with open(file_path, 'r') as f: \n",
    "        opened_file = f.read()\n",
    "    return opened_file\n",
    "\n",
    "def tell_me_what_im_thinking_of(what_im_thinking_about, polite=False): \n",
    "    oracles_repsonse = f\"You are thinking about {what_im_thinking_about}.\"\n",
    "    if polite: \n",
    "        oracles_repsonse += \"Isn't that right, dear?\"\n",
    "\n",
    "    print(oracles_repsonse)"
   ]
  },
  {
   "attachments": {},
   "cell_type": "markdown",
   "metadata": {},
   "source": [
    "### Knowledge Checkpoint! \n",
    "\n",
    "Below is a few lines of code that have a common operation. It's up to you to transform that in a function! \n",
    "\n",
    "The next cell has a few statements to make sure you've got the right anwser, try those out to check your work!"
   ]
  },
  {
   "cell_type": "code",
   "execution_count": null,
   "metadata": {},
   "outputs": [],
   "source": [
    "# Writing simple code is way harder than I thought..... "
   ]
  },
  {
   "cell_type": "code",
   "execution_count": null,
   "metadata": {},
   "outputs": [],
   "source": [
    "def skeleton_function(): \n",
    "    pass"
   ]
  },
  {
   "cell_type": "code",
   "execution_count": null,
   "metadata": {},
   "outputs": [],
   "source": [
    "assert skeleton_function() == 5 \n",
    "assert skeleton_function() == 7"
   ]
  },
  {
   "attachments": {},
   "cell_type": "markdown",
   "metadata": {},
   "source": [
    "## Using Git\n",
    "\n",
    "`git` is the foundational software versioning tool. If you want to store code and keep track of versions of code, `git` is the tool to use.  `GitHub`, and its other (sightly less Microsoft-owned) counterparts such as `GitLab` are the fundemental to how modern code works, giving code a place to live. \n",
    "\n",
    "For our purposes, we'll be using `GitHub` to organize the code used for the learning sessions. If you are so inclined, you can also `fork` these tutorials and keep a copy for yourself! "
   ]
  },
  {
   "attachments": {},
   "cell_type": "markdown",
   "metadata": {},
   "source": [
    "### Download the tutorials \n",
    "\n",
    "Assuming you haven't already, run the below cell to download the tutorials. \n",
    "\n",
    "Adding a `!` in front of a cell in a jupyter notebook indicated that you want to run it as a cli execution. "
   ]
  },
  {
   "cell_type": "code",
   "execution_count": 3,
   "metadata": {},
   "outputs": [
    {
     "name": "stdout",
     "output_type": "stream",
     "text": [
      "Cloning into 'tutorials'...\n",
      "remote: Enumerating objects: 3, done.\u001b[K\n",
      "remote: Counting objects: 100% (3/3), done.\u001b[K\n",
      "remote: Total 3 (delta 0), reused 0 (delta 0), pack-reused 0\u001b[K\n",
      "Receiving objects: 100% (3/3), done.\n"
     ]
    }
   ],
   "source": [
    "! git clone https://github.com/BNL-Fermi-Summer-School-2023/tutorials "
   ]
  },
  {
   "attachments": {},
   "cell_type": "markdown",
   "metadata": {},
   "source": [
    "### set up your local work as a git repository\n",
    "\n"
   ]
  },
  {
   "cell_type": "code",
   "execution_count": null,
   "metadata": {},
   "outputs": [],
   "source": [
    "! git init"
   ]
  },
  {
   "attachments": {},
   "cell_type": "markdown",
   "metadata": {},
   "source": [
    "### Store your work by commiting\n",
    "\n"
   ]
  },
  {
   "cell_type": "code",
   "execution_count": null,
   "metadata": {},
   "outputs": [],
   "source": [
    "! git add introduction.ipynb\n",
    "! git commit -m \"YOUR MESSAGE HERE!\""
   ]
  },
  {
   "attachments": {},
   "cell_type": "markdown",
   "metadata": {},
   "source": [
    "## Set up a virtual envoriment"
   ]
  },
  {
   "attachments": {},
   "cell_type": "markdown",
   "metadata": {},
   "source": [
    "### Set up a conda env \n"
   ]
  },
  {
   "cell_type": "code",
   "execution_count": null,
   "metadata": {},
   "outputs": [],
   "source": [
    "! conda env [YOUR ENV NAME HERE]"
   ]
  },
  {
   "attachments": {},
   "cell_type": "markdown",
   "metadata": {},
   "source": [
    "### Add a new package! "
   ]
  },
  {
   "cell_type": "code",
   "execution_count": null,
   "metadata": {},
   "outputs": [],
   "source": [
    "! conda activate [THAT SAME ENV NAME]\n",
    "! conda add numpy"
   ]
  },
  {
   "attachments": {},
   "cell_type": "markdown",
   "metadata": {},
   "source": [
    "## Common packages\n",
    "\n",
    "Beauty of python is that it has some of the broadest and complete package support in the business.\n",
    "There are several incredibly powerful packages ready for you to use for AI/ML/Data Science, so we'll introduce you to some of the big players. "
   ]
  },
  {
   "attachments": {},
   "cell_type": "markdown",
   "metadata": {},
   "source": [
    "### Numpy \n",
    "Numpy needs no introduction.\n",
    "It is THE matrix operation package.\n",
    "It has lovely data structures, and a powerful C based back end. \n",
    "If you need to do any mathematics beyond \"1+1\", Numpy is the go to. \n",
    "\n",
    "[Documentation is here](https://numpy.org/doc/stable/)"
   ]
  },
  {
   "cell_type": "code",
   "execution_count": 7,
   "metadata": {},
   "outputs": [],
   "source": [
    "# Import the package so we can use it in the code\n",
    "import numpy as np # The common alias\n",
    "\n",
    "# Task \n",
    "# Generate random data and verify that the std and mean is where they're supposed to be\n",
    "\n",
    "# first: Generate the distirbution \n",
    "# Reference the documentation if you don't know what these inputs mean or what the function requires: \n",
    "# https://numpy.org/doc/stable/reference/random/generated/numpy.random.normal.html#numpy.random.normal \n",
    "distribution_size = 200\n",
    "normal_distribution = np.random.default_rng().normal(0, 0.5, distribution_size)"
   ]
  },
  {
   "cell_type": "code",
   "execution_count": 8,
   "metadata": {},
   "outputs": [
    {
     "data": {
      "text/plain": [
       "(200,)"
      ]
     },
     "execution_count": 8,
     "metadata": {},
     "output_type": "execute_result"
    }
   ],
   "source": [
    "# Check we've got the right size! \n",
    "normal_distribution.shape #`shape` is a parameter of the distribution, so we don't need to call it with ()"
   ]
  },
  {
   "cell_type": "code",
   "execution_count": 9,
   "metadata": {},
   "outputs": [
    {
     "data": {
      "text/plain": [
       "0.4886663475100553"
      ]
     },
     "execution_count": 9,
     "metadata": {},
     "output_type": "execute_result"
    }
   ],
   "source": [
    "# Now let's check the distribution for the mean and the standard deviation (which should be almost as we defined them in how we called them)\n",
    "normal_distribution.std() # std and mean are functions, so they need to be called with ()"
   ]
  },
  {
   "cell_type": "code",
   "execution_count": 10,
   "metadata": {},
   "outputs": [
    {
     "data": {
      "text/plain": [
       "0.02840091966460279"
      ]
     },
     "execution_count": 10,
     "metadata": {},
     "output_type": "execute_result"
    }
   ],
   "source": [
    "normal_distribution.mean()"
   ]
  },
  {
   "cell_type": "code",
   "execution_count": null,
   "metadata": {},
   "outputs": [],
   "source": [
    "# Bonus! \n",
    "# Add noise to that distirbution. \n",
    "# Check those stats! They should be pretty similar\n",
    "\n",
    "# When we say \"noise\", we mean some other distirbution that isn't perfect that can change the shape of the distirbution. \n",
    "# Let's try with a uniform distirbution - from here: https://numpy.org/doc/stable/reference/random/generated/numpy.random.Generator.uniform.html#numpy.random.Generator.uniform\n",
    "\n",
    "noise_shape = \"?\"\n",
    "noise_lower_bound = \"?\"\n",
    "noise_upper_bound = \"?\"\n",
    "\n",
    "noise = np.random.default_rng().uniform(noise_lower_bound, noise_upper_bound, noise_shape)\n",
    "\n",
    "# To apply that to the original distribution, we need to do some array manitpulation \n",
    "# Looky here! https://numpy.org/doc/stable/reference/arrays.ndarray.html#arithmetic-matrix-multiplication-and-comparison-operations\n",
    "noisy_normal_distribution = \"?\""
   ]
  },
  {
   "cell_type": "code",
   "execution_count": null,
   "metadata": {},
   "outputs": [],
   "source": [
    "# Check by making sure the std and mean are around the same as the original \n",
    "\n",
    "assert (noisy_normal_distribution.std() > normal_distribution.std() - .1) and (noisy_normal_distribution.std() < normal_distribution.std() + .1)\n",
    "assert (noisy_normal_distribution.mean() > normal_distribution.mean() - .1) and (noisy_normal_distribution.mean() < normal_distribution.mean() + .1)"
   ]
  },
  {
   "attachments": {},
   "cell_type": "markdown",
   "metadata": {},
   "source": [
    "### Pandas \n",
    "Another data structure power player. \n",
    "Great for data views, slicing and taking control over your input data. \n",
    "It has nice, easy to play with tables, so you can easily describe your data and table subsets based on row contents. \n",
    "It also uses a C backend in some spots, so it's pretty dang quick where it counts. \n",
    "\n",
    "[Documentation is here]()"
   ]
  },
  {
   "cell_type": "code",
   "execution_count": null,
   "metadata": {},
   "outputs": [],
   "source": [
    "# Task \n",
    "# Make a data frame full of new (random) data and run some statistics\n"
   ]
  },
  {
   "cell_type": "code",
   "execution_count": null,
   "metadata": {},
   "outputs": [],
   "source": [
    "# Same thing but asking for different statitics "
   ]
  },
  {
   "attachments": {},
   "cell_type": "markdown",
   "metadata": {},
   "source": [
    "### Scikit Learn \n",
    "\n",
    "Scikit has some of the best off-the-shelf ML algorithms. \n",
    "It's very easy to use and full of useful diagonistics that help both beginers and seasoned practioners. \n",
    "\n",
    "Largely, it's split into classification (which is which) and regression (how much is that) tasks. \n",
    "If there is an ML algorithm you want to use, Scikit is the first place to look. \n",
    "\n",
    "[Documentation is here]()\n"
   ]
  },
  {
   "cell_type": "code",
   "execution_count": null,
   "metadata": {},
   "outputs": [],
   "source": [
    "# Task \n",
    "# Make a linreg learn something"
   ]
  },
  {
   "cell_type": "code",
   "execution_count": null,
   "metadata": {},
   "outputs": [],
   "source": [
    "# Slightly different task that requires you to fill in the blanks"
   ]
  },
  {
   "attachments": {},
   "cell_type": "markdown",
   "metadata": {},
   "source": [
    "### Matplotlib \n",
    "\n",
    "Now that we have a ton of packages to handle data, the little animal brain we have needs something to look at. \n",
    "Matplotlib is the best shot at that.\n",
    "It's the most wildly used plotting and visualizations package out there. \n",
    "This little introduction will only scratch the surface as to what it can do"
   ]
  },
  {
   "cell_type": "code",
   "execution_count": null,
   "metadata": {},
   "outputs": [],
   "source": [
    "# Task\n",
    "# Plot a normal distribution "
   ]
  },
  {
   "cell_type": "code",
   "execution_count": null,
   "metadata": {},
   "outputs": [],
   "source": [
    "# Plot TWO distributions. On the same plot! "
   ]
  },
  {
   "attachments": {},
   "cell_type": "markdown",
   "metadata": {},
   "source": [
    "## Open an outside datasource\n"
   ]
  },
  {
   "attachments": {},
   "cell_type": "markdown",
   "metadata": {},
   "source": [
    "### Download data\n"
   ]
  },
  {
   "cell_type": "code",
   "execution_count": null,
   "metadata": {},
   "outputs": [],
   "source": []
  },
  {
   "attachments": {},
   "cell_type": "markdown",
   "metadata": {},
   "source": [
    "### Write a function that opens the data! "
   ]
  },
  {
   "cell_type": "code",
   "execution_count": null,
   "metadata": {},
   "outputs": [],
   "source": []
  },
  {
   "attachments": {},
   "cell_type": "markdown",
   "metadata": {},
   "source": [
    "## Knowledge Check \n",
    "\n",
    "Install the package [](), and see what version it is. \n",
    "\n",
    "Do Something with it. "
   ]
  },
  {
   "attachments": {},
   "cell_type": "markdown",
   "metadata": {},
   "source": [
    "## Challenge \n",
    "\n",
    "Use scikit learn to train a classifier to seperate out a UCI dataset into its classes. \n",
    "Visualize the data beforehand!"
   ]
  },
  {
   "cell_type": "code",
   "execution_count": null,
   "metadata": {},
   "outputs": [],
   "source": [
    "# Skeleton code that does that. \n",
    "# fill in the blanks stuff "
   ]
  }
 ],
 "metadata": {
  "kernelspec": {
   "display_name": "base",
   "language": "python",
   "name": "python3"
  },
  "language_info": {
   "codemirror_mode": {
    "name": "ipython",
    "version": 3
   },
   "file_extension": ".py",
   "mimetype": "text/x-python",
   "name": "python",
   "nbconvert_exporter": "python",
   "pygments_lexer": "ipython3",
   "version": "3.10.5"
  },
  "orig_nbformat": 4,
  "vscode": {
   "interpreter": {
    "hash": "e6819b24f866a1aa258d04ed020a776a62b2936ca77337fe434989dfb9c603cb"
   }
  }
 },
 "nbformat": 4,
 "nbformat_minor": 2
}
