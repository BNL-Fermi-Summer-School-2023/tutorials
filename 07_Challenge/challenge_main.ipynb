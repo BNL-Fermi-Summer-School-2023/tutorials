{
 "cells": [
  {
   "cell_type": "code",
   "execution_count": null,
   "metadata": {},
   "outputs": [],
   "source": [
    "## This is the answer guide notebook \n",
    "## It has the un-modified data and good hyperparams"
   ]
  },
  {
   "cell_type": "code",
   "execution_count": null,
   "metadata": {},
   "outputs": [],
   "source": [
    "! pip install deepbench\n"
   ]
  },
  {
   "cell_type": "code",
   "execution_count": null,
   "metadata": {},
   "outputs": [],
   "source": [
    "import numpy as np\n",
    "import matplotlib.pyplot as plt\n",
    "from deepbench.astro_object import StarObject, GalaxyObject \n",
    "\n",
    "from tensorflow.keras.layers import Input, Dropout, Conv1D, Dense, AvgPool1D, Flatten\n",
    "from tensorflow.keras.models import Model\n",
    "\n",
    "import tensorflow as tf \n",
    "\n",
    "import math \n",
    "from sklearn.metrics import roc_curve, confusion_matrix\n"
   ]
  },
  {
   "cell_type": "code",
   "execution_count": null,
   "metadata": {},
   "outputs": [],
   "source": [
    "# don't worry too much about how this simulation is being run. It's fine. Don't worry. I promise :3c \n",
    "\n",
    "# This generates data as per the Secret Parameters \n",
    "# I request you don't change anything here or look too closely. \n",
    "# Otherwise! this challenge won't be as fun\n",
    "\n",
    "class SkyGenerator(tf.keras.utils.Sequence): \n",
    "    def __init__(self, n_samples, batch_size=64, pre_processing=None, train=True, shuffle=False):\n",
    "        self.n_samples = n_samples\n",
    "\n",
    "        self.pre_processing = pre_processing\n",
    "\n",
    "        self.batch_size = batch_size\n",
    "        self.shuffle = shuffle\n",
    "\n",
    "        self.image_size = 28\n",
    "        self.noise_level = 0.05\n",
    "\n",
    "        self.rng = np.random.default_rng(seed=42) # Seed for the main notebook\n",
    "\n",
    "        self.labels = self.decide_labels()\n",
    "\n",
    "    def decide_labels(self): \n",
    "        n_stars = self.rng.integers(low=int(.45*self.n_samples), high=int(.65*self.n_samples))\n",
    "        n_galaxies = self.n_samples-n_stars\n",
    "        labels = [0 for _ in range(n_stars)] + [1 for _ in range(n_galaxies)]\n",
    "        if self.shuffle: \n",
    "            self.rng.shuffle(labels)\n",
    "        return np.asarray(labels)\n",
    " \n",
    "    def generate_image(self, label): \n",
    "        radius = self.rng.integers(low=1, high=self.image_size/2)\n",
    "        center_x = self.rng.integers(low=1, high=self.image_size)\n",
    "        center_y = self.rng.integers(low=1, high=self.image_size)\n",
    "\n",
    "        if label == 0: \n",
    "            image = StarObject(\n",
    "                image_dimensions=self.image_size,\n",
    "                noise=self.noise_level,\n",
    "                radius=radius\n",
    "                    ).create_object(\n",
    "                        center_x=center_x, center_y=center_y\n",
    "                        )\n",
    " \n",
    "        else: \n",
    "            image = GalaxyObject(\n",
    "                image_dimensions=self.image_size,\n",
    "                noise_level=self.noise_level,\n",
    "                radius=radius\n",
    "                    ).create_object(\n",
    "                        center_x=center_x, center_y=center_y\n",
    "                        )\n",
    "\n",
    "        if self.pre_processing is not None: \n",
    "            image = self.pre_processing.transform(image)\n",
    "\n",
    "        return image\n",
    "\n",
    "    def __len__(self):\n",
    "        return math.ceil(self.n_samples / self.batch_size)\n",
    "\n",
    "    def __getitem__(self, idx):\n",
    "        low = idx * self.batch_size\n",
    "        high = min(low + self.batch_size, len(self.labels))\n",
    "        batch_y = self.labels[low:high]\n",
    "        batch_x = np.zeros((len(batch_y), self.image_size, self.image_size))\n",
    "        for index, label in enumerate(batch_y): \n",
    "            batch_x[index] = self.generate_image(label)\n",
    "\n",
    "        return batch_x, batch_y"
   ]
  },
  {
   "cell_type": "code",
   "execution_count": null,
   "metadata": {},
   "outputs": [],
   "source": [
    "def make_model(): \n",
    "    in_layer = Input((28, 28))\n",
    "    x = Conv1D(filters=4, kernel_size=2)(in_layer)\n",
    "    x = Conv1D(filters=8, kernel_size=4)(x)\n",
    "    x = Conv1D(filters=12, kernel_size=6)(x)\n",
    "    \n",
    "    x = AvgPool1D(6)(x)\n",
    "\n",
    "    x = Conv1D(filters=4, kernel_size=2)(in_layer)\n",
    "    x = Conv1D(filters=8, kernel_size=4)(x)\n",
    "    x = Conv1D(filters=12, kernel_size=6)(x)\n",
    "    \n",
    "    x = AvgPool1D(6)(x)\n",
    "\n",
    "    x = Flatten()(x)\n",
    "    x = Dense(20, activation='relu')(x)\n",
    "\n",
    "    x = Dropout(0.3)(x)\n",
    "    output = Dense(1, activation='sigmoid')(x)\n",
    "    model = Model(in_layer, output)\n",
    "    \n",
    "    return model"
   ]
  },
  {
   "cell_type": "code",
   "execution_count": null,
   "metadata": {},
   "outputs": [],
   "source": [
    "model = make_model()\n",
    "model.compile(loss='binary_crossentropy', optimizer=tf.keras.optimizers.SGD(0.01))\n",
    "model.summary()"
   ]
  },
  {
   "cell_type": "code",
   "execution_count": null,
   "metadata": {},
   "outputs": [],
   "source": [
    "train_generator = SkyGenerator(n_samples=1280, shuffle=True)\n",
    "val_generator = SkyGenerator(n_samples=1280, train=False, shuffle=True)\n",
    "\n",
    "history = model.fit(\n",
    "    train_generator, \n",
    "    validation_data=val_generator, \n",
    "    epochs=80, \n",
    "    verbose=1\n",
    "    ).history\n"
   ]
  },
  {
   "cell_type": "code",
   "execution_count": null,
   "metadata": {},
   "outputs": [],
   "source": [
    "# Plot history\n",
    "def plot_history(history): \n",
    "    loss = history['loss']\n",
    "    epochs = range(len(loss))\n",
    "\n",
    "    val_loss = history['val_loss']\n",
    "\n",
    "    plt.plot(epochs, loss, label=\"Train\")\n",
    "    plt.plot(epochs, val_loss, label='Validation')\n",
    "\n",
    "    plt.title(\"Loss History\")\n",
    "    plt.xlabel(\"Epoch\")\n",
    "    plt.ylabel(\"Loss\")\n",
    "    plt.legend()\n",
    "    plt.show()\n",
    "\n",
    "plot_history(history)"
   ]
  },
  {
   "cell_type": "code",
   "execution_count": null,
   "metadata": {},
   "outputs": [],
   "source": [
    "# Making a different testing set (So people can see the in-domain vs out-of-domain)\n",
    "\n",
    "test_generator = SkyGenerator(n_samples=1280, train=False, shuffle=True)\n",
    "\n",
    "def make_prediction(test_generator): \n",
    "    predictions = model.predict(test_generator)\n",
    "    prediction_classes = np.where(predictions<0.5, 0, 1) # Challenge - make this backwards\n",
    "    labels = test_generator.labels\n",
    "    return prediction_classes, labels\n",
    "\n",
    "def test_quality(prediction, labels): \n",
    "    accuracy = tf.keras.metrics.BinaryAccuracy()(prediction, labels)\n",
    "    return accuracy.numpy()"
   ]
  },
  {
   "cell_type": "code",
   "execution_count": null,
   "metadata": {},
   "outputs": [],
   "source": [
    "prediction, labels = make_prediction(test_generator)\n",
    "\n",
    "test_quality(prediction, labels)"
   ]
  },
  {
   "cell_type": "code",
   "execution_count": null,
   "metadata": {},
   "outputs": [],
   "source": [
    "# Metrics and evaluation\n",
    "def plot_test_results(predictions, labels):\n",
    "    score_fpr, score_tpr, _ = roc_curve(labels, predictions)\n",
    "    confusion = confusion_matrix(labels.ravel(), predictions.ravel())\n",
    "\n",
    "    plt.plot(score_fpr, score_tpr)\n",
    "    plt.xlabel(\"FPR\")\n",
    "    plt.ylabel(\"TPR\")\n",
    "    plt.title(\"ROC AUC Curve\")\n",
    "    plt.show()\n",
    "\n",
    "\n",
    "    plt.imshow(confusion)\n",
    "\n",
    "    for true in range(confusion.shape[0]):\n",
    "        for predicted in range(confusion.shape[1]):\n",
    "            plt.text(predicted, true, confusion[true, predicted],\n",
    "                        ha=\"center\", va=\"center\")\n",
    "            \n",
    "    plt.xlabel(\"Predicted\")\n",
    "    plt.ylabel(\"True\")\n",
    "    plt.title(\"Confusion Matrix\")\n",
    "    plt.show()\n",
    "\n",
    "plot_test_results(prediction, labels)"
   ]
  },
  {
   "cell_type": "code",
   "execution_count": null,
   "metadata": {},
   "outputs": [],
   "source": []
  }
 ],
 "metadata": {
  "kernelspec": {
   "display_name": "base",
   "language": "python",
   "name": "python3"
  },
  "language_info": {
   "codemirror_mode": {
    "name": "ipython",
    "version": 3
   },
   "file_extension": ".py",
   "mimetype": "text/x-python",
   "name": "python",
   "nbconvert_exporter": "python",
   "pygments_lexer": "ipython3",
   "version": "3.9.13"
  },
  "orig_nbformat": 4
 },
 "nbformat": 4,
 "nbformat_minor": 2
}
