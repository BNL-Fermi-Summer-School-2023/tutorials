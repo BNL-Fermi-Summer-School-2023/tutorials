{
 "cells": [
  {
   "cell_type": "code",
   "execution_count": null,
   "metadata": {},
   "outputs": [],
   "source": [
    "## This is the answer guide notebook \n",
    "## It has the un-modified data and good hyperparams"
   ]
  },
  {
   "cell_type": "code",
   "execution_count": 26,
   "metadata": {},
   "outputs": [
    {
     "name": "stdout",
     "output_type": "stream",
     "text": [
      "Collecting git+https://github.com/deepskies/DeepBench.git@bug/import\n",
      "  Cloning https://github.com/deepskies/DeepBench.git (to revision bug/import) to /private/var/folders/95/_pswfcf9723cb9f4vw6h944m0000gr/T/pip-req-build-gt72anhg\n",
      "  Running command git clone --filter=blob:none --quiet https://github.com/deepskies/DeepBench.git /private/var/folders/95/_pswfcf9723cb9f4vw6h944m0000gr/T/pip-req-build-gt72anhg\n",
      "  Running command git checkout -b bug/import --track origin/bug/import\n",
      "  Switched to a new branch 'bug/import'\n",
      "  branch 'bug/import' set up to track 'origin/bug/import'.\n",
      "  Resolved https://github.com/deepskies/DeepBench.git to commit 2718040cd0fd0d51b78146f42cbe684d70f103b1\n",
      "  Installing build dependencies ... \u001b[?25ldone\n",
      "\u001b[?25h  Getting requirements to build wheel ... \u001b[?25ldone\n",
      "\u001b[?25h  Preparing metadata (pyproject.toml) ... \u001b[?25ldone\n",
      "\u001b[?25hRequirement already satisfied: astropy<6.0.0,>=5.2.2 in /Users/maggiev-local/miniforge3/lib/python3.9/site-packages (from deepbench==0.1.1) (5.3)\n",
      "Requirement already satisfied: autograd<2.0,>=1.5 in /Users/maggiev-local/miniforge3/lib/python3.9/site-packages (from deepbench==0.1.1) (1.5)\n",
      "Requirement already satisfied: matplotlib<4.0.0,>=3.7.1 in /Users/maggiev-local/miniforge3/lib/python3.9/site-packages (from deepbench==0.1.1) (3.7.1)\n",
      "Requirement already satisfied: numpy<2.0.0,>=1.24.3 in /Users/maggiev-local/miniforge3/lib/python3.9/site-packages (from deepbench==0.1.1) (1.24.3)\n",
      "Requirement already satisfied: pyyaml<7.0,>=6.0 in /Users/maggiev-local/miniforge3/lib/python3.9/site-packages (from deepbench==0.1.1) (6.0)\n",
      "Requirement already satisfied: scikit-image<0.21.0,>=0.20.0 in /Users/maggiev-local/miniforge3/lib/python3.9/site-packages (from deepbench==0.1.1) (0.20.0)\n",
      "Requirement already satisfied: pyerfa>=2.0 in /Users/maggiev-local/miniforge3/lib/python3.9/site-packages (from astropy<6.0.0,>=5.2.2->deepbench==0.1.1) (2.0.0)\n",
      "Requirement already satisfied: packaging>=19.0 in /Users/maggiev-local/miniforge3/lib/python3.9/site-packages (from astropy<6.0.0,>=5.2.2->deepbench==0.1.1) (21.3)\n",
      "Requirement already satisfied: future>=0.15.2 in /Users/maggiev-local/miniforge3/lib/python3.9/site-packages (from autograd<2.0,>=1.5->deepbench==0.1.1) (0.18.3)\n",
      "Requirement already satisfied: contourpy>=1.0.1 in /Users/maggiev-local/miniforge3/lib/python3.9/site-packages (from matplotlib<4.0.0,>=3.7.1->deepbench==0.1.1) (1.0.7)\n",
      "Requirement already satisfied: cycler>=0.10 in /Users/maggiev-local/miniforge3/lib/python3.9/site-packages (from matplotlib<4.0.0,>=3.7.1->deepbench==0.1.1) (0.11.0)\n",
      "Requirement already satisfied: fonttools>=4.22.0 in /Users/maggiev-local/miniforge3/lib/python3.9/site-packages (from matplotlib<4.0.0,>=3.7.1->deepbench==0.1.1) (4.34.4)\n",
      "Requirement already satisfied: kiwisolver>=1.0.1 in /Users/maggiev-local/miniforge3/lib/python3.9/site-packages (from matplotlib<4.0.0,>=3.7.1->deepbench==0.1.1) (1.4.4)\n",
      "Requirement already satisfied: pillow>=6.2.0 in /Users/maggiev-local/miniforge3/lib/python3.9/site-packages (from matplotlib<4.0.0,>=3.7.1->deepbench==0.1.1) (9.2.0)\n",
      "Requirement already satisfied: pyparsing>=2.3.1 in /Users/maggiev-local/miniforge3/lib/python3.9/site-packages (from matplotlib<4.0.0,>=3.7.1->deepbench==0.1.1) (3.0.9)\n",
      "Requirement already satisfied: python-dateutil>=2.7 in /Users/maggiev-local/miniforge3/lib/python3.9/site-packages (from matplotlib<4.0.0,>=3.7.1->deepbench==0.1.1) (2.8.2)\n",
      "Requirement already satisfied: importlib-resources>=3.2.0 in /Users/maggiev-local/miniforge3/lib/python3.9/site-packages (from matplotlib<4.0.0,>=3.7.1->deepbench==0.1.1) (5.12.0)\n",
      "Requirement already satisfied: scipy<1.9.2,>=1.8 in /Users/maggiev-local/miniforge3/lib/python3.9/site-packages (from scikit-image<0.21.0,>=0.20.0->deepbench==0.1.1) (1.9.1)\n",
      "Requirement already satisfied: networkx>=2.8 in /Users/maggiev-local/miniforge3/lib/python3.9/site-packages (from scikit-image<0.21.0,>=0.20.0->deepbench==0.1.1) (2.8.5)\n",
      "Requirement already satisfied: imageio>=2.4.1 in /Users/maggiev-local/miniforge3/lib/python3.9/site-packages (from scikit-image<0.21.0,>=0.20.0->deepbench==0.1.1) (2.19.5)\n",
      "Requirement already satisfied: tifffile>=2019.7.26 in /Users/maggiev-local/miniforge3/lib/python3.9/site-packages (from scikit-image<0.21.0,>=0.20.0->deepbench==0.1.1) (2022.5.4)\n",
      "Requirement already satisfied: PyWavelets>=1.1.1 in /Users/maggiev-local/miniforge3/lib/python3.9/site-packages (from scikit-image<0.21.0,>=0.20.0->deepbench==0.1.1) (1.3.0)\n",
      "Requirement already satisfied: lazy_loader>=0.1 in /Users/maggiev-local/miniforge3/lib/python3.9/site-packages (from scikit-image<0.21.0,>=0.20.0->deepbench==0.1.1) (0.2)\n",
      "Requirement already satisfied: zipp>=3.1.0 in /Users/maggiev-local/miniforge3/lib/python3.9/site-packages (from importlib-resources>=3.2.0->matplotlib<4.0.0,>=3.7.1->deepbench==0.1.1) (3.15.0)\n",
      "Requirement already satisfied: six>=1.5 in /Users/maggiev-local/miniforge3/lib/python3.9/site-packages (from python-dateutil>=2.7->matplotlib<4.0.0,>=3.7.1->deepbench==0.1.1) (1.15.0)\n",
      "Building wheels for collected packages: deepbench\n",
      "  Building wheel for deepbench (pyproject.toml) ... \u001b[?25ldone\n",
      "\u001b[?25h  Created wheel for deepbench: filename=deepbench-0.1.1-py3-none-any.whl size=29920 sha256=ce11d8beb7c05e43dbb220d1a7762fee9ae23f18942247874ac0443cc11d91f4\n",
      "  Stored in directory: /private/var/folders/95/_pswfcf9723cb9f4vw6h944m0000gr/T/pip-ephem-wheel-cache-0wh75vhs/wheels/aa/a4/ac/7dd5cb40b68d96aac05a3e2c3c572a3d4119cfe338bfa346a8\n",
      "Successfully built deepbench\n",
      "Installing collected packages: deepbench\n",
      "  Attempting uninstall: deepbench\n",
      "    Found existing installation: deepbench 0.1.0\n",
      "    Uninstalling deepbench-0.1.0:\n",
      "      Successfully uninstalled deepbench-0.1.0\n",
      "Successfully installed deepbench-0.1.1\n"
     ]
    }
   ],
   "source": [
    "# TODO Get this made public\n",
    "\n",
    "! pip install git+https://github.com/deepskies/DeepBench.git\n",
    "! python3 make_data.py\n"
   ]
  },
  {
   "cell_type": "code",
   "execution_count": null,
   "metadata": {},
   "outputs": [],
   "source": [
    "import numpy as np\n",
    "import matplotlib.pyplot as plt\n",
    "\n",
    "from tensorflow.keras.layers import Input, Dropout, Conv2D, Dense\n",
    "\n"
   ]
  },
  {
   "cell_type": "code",
   "execution_count": 17,
   "metadata": {},
   "outputs": [
    {
     "ename": "ModuleNotFoundError",
     "evalue": "No module named 'deepbench.src.deepbench.physics_object'",
     "output_type": "error",
     "traceback": [
      "\u001b[0;31m---------------------------------------------------------------------------\u001b[0m",
      "\u001b[0;31mModuleNotFoundError\u001b[0m                       Traceback (most recent call last)",
      "Cell \u001b[0;32mIn[17], line 3\u001b[0m\n\u001b[1;32m      1\u001b[0m \u001b[39m# Data Generation \u001b[39;00m\n\u001b[1;32m      2\u001b[0m \u001b[39mimport\u001b[39;00m \u001b[39mdeepbench\u001b[39;00m\u001b[39m.\u001b[39;00m\u001b[39msrc\u001b[39;00m\u001b[39m.\u001b[39;00m\u001b[39mdeepbench\u001b[39;00m \u001b[39mas\u001b[39;00m \u001b[39mdeepbench\u001b[39;00m\n\u001b[0;32m----> 3\u001b[0m \u001b[39mfrom\u001b[39;00m \u001b[39mdeepbench\u001b[39;00m\u001b[39m.\u001b[39;00m\u001b[39msrc\u001b[39;00m\u001b[39m.\u001b[39;00m\u001b[39mdeepbench\u001b[39;00m\u001b[39m.\u001b[39;00m\u001b[39mphysics_object\u001b[39;00m\u001b[39m.\u001b[39;00m\u001b[39mcollection\u001b[39;00m \u001b[39mimport\u001b[39;00m Collection\n",
      "\u001b[0;31mModuleNotFoundError\u001b[0m: No module named 'deepbench.src.deepbench.physics_object'"
     ]
    }
   ],
   "source": [
    "# don't worry too much about how this simulation is being run. It's fine. Don't worry. I promise :3c \n",
    "# Loading the generated data with a \n"
   ]
  },
  {
   "cell_type": "code",
   "execution_count": null,
   "metadata": {},
   "outputs": [],
   "source": [
    "split_index = \n",
    "\n",
    "training_features = []\n",
    "validation_features = []\n",
    "\n",
    "training_labels = []\n",
    "validation_labels = []"
   ]
  },
  {
   "cell_type": "code",
   "execution_count": null,
   "metadata": {},
   "outputs": [],
   "source": [
    "train_generator = {}\n",
    "validation_generator = {}"
   ]
  },
  {
   "cell_type": "code",
   "execution_count": null,
   "metadata": {},
   "outputs": [],
   "source": [
    "model = {}"
   ]
  },
  {
   "cell_type": "code",
   "execution_count": null,
   "metadata": {},
   "outputs": [],
   "source": [
    "model.fit()"
   ]
  },
  {
   "cell_type": "code",
   "execution_count": null,
   "metadata": {},
   "outputs": [],
   "source": [
    "# Plot history"
   ]
  },
  {
   "cell_type": "code",
   "execution_count": null,
   "metadata": {},
   "outputs": [],
   "source": [
    "# Making a different testing set (So people can see the in-domain vs out-of-domain)\n",
    "testing_set = {}\n",
    "testing_generator = {}"
   ]
  },
  {
   "cell_type": "code",
   "execution_count": null,
   "metadata": {},
   "outputs": [],
   "source": [
    "# Metrics and evaluation"
   ]
  }
 ],
 "metadata": {
  "kernelspec": {
   "display_name": "base",
   "language": "python",
   "name": "python3"
  },
  "language_info": {
   "codemirror_mode": {
    "name": "ipython",
    "version": 3
   },
   "file_extension": ".py",
   "mimetype": "text/x-python",
   "name": "python",
   "nbconvert_exporter": "python",
   "pygments_lexer": "ipython3",
   "version": "3.9.13"
  },
  "orig_nbformat": 4
 },
 "nbformat": 4,
 "nbformat_minor": 2
}
