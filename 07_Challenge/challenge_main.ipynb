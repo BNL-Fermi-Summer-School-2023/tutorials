{
 "cells": [
  {
   "cell_type": "code",
   "execution_count": null,
   "metadata": {},
   "outputs": [],
   "source": [
    "## This is the answer guide notebook \n",
    "## It has the un-modified data and good hyperparams"
   ]
  },
  {
   "cell_type": "code",
   "execution_count": 26,
   "metadata": {},
   "outputs": [
    {
     "name": "stdout",
     "output_type": "stream",
     "text": [
      "Collecting git+https://github.com/deepskies/DeepBench.git@bug/import\n",
      "  Cloning https://github.com/deepskies/DeepBench.git (to revision bug/import) to /private/var/folders/95/_pswfcf9723cb9f4vw6h944m0000gr/T/pip-req-build-gt72anhg\n",
      "  Running command git clone --filter=blob:none --quiet https://github.com/deepskies/DeepBench.git /private/var/folders/95/_pswfcf9723cb9f4vw6h944m0000gr/T/pip-req-build-gt72anhg\n",
      "  Running command git checkout -b bug/import --track origin/bug/import\n",
      "  Switched to a new branch 'bug/import'\n",
      "  branch 'bug/import' set up to track 'origin/bug/import'.\n",
      "  Resolved https://github.com/deepskies/DeepBench.git to commit 2718040cd0fd0d51b78146f42cbe684d70f103b1\n",
      "  Installing build dependencies ... \u001b[?25ldone\n",
      "\u001b[?25h  Getting requirements to build wheel ... \u001b[?25ldone\n",
      "\u001b[?25h  Preparing metadata (pyproject.toml) ... \u001b[?25ldone\n",
      "\u001b[?25hRequirement already satisfied: astropy<6.0.0,>=5.2.2 in /Users/maggiev-local/miniforge3/lib/python3.9/site-packages (from deepbench==0.1.1) (5.3)\n",
      "Requirement already satisfied: autograd<2.0,>=1.5 in /Users/maggiev-local/miniforge3/lib/python3.9/site-packages (from deepbench==0.1.1) (1.5)\n",
      "Requirement already satisfied: matplotlib<4.0.0,>=3.7.1 in /Users/maggiev-local/miniforge3/lib/python3.9/site-packages (from deepbench==0.1.1) (3.7.1)\n",
      "Requirement already satisfied: numpy<2.0.0,>=1.24.3 in /Users/maggiev-local/miniforge3/lib/python3.9/site-packages (from deepbench==0.1.1) (1.24.3)\n",
      "Requirement already satisfied: pyyaml<7.0,>=6.0 in /Users/maggiev-local/miniforge3/lib/python3.9/site-packages (from deepbench==0.1.1) (6.0)\n",
      "Requirement already satisfied: scikit-image<0.21.0,>=0.20.0 in /Users/maggiev-local/miniforge3/lib/python3.9/site-packages (from deepbench==0.1.1) (0.20.0)\n",
      "Requirement already satisfied: pyerfa>=2.0 in /Users/maggiev-local/miniforge3/lib/python3.9/site-packages (from astropy<6.0.0,>=5.2.2->deepbench==0.1.1) (2.0.0)\n",
      "Requirement already satisfied: packaging>=19.0 in /Users/maggiev-local/miniforge3/lib/python3.9/site-packages (from astropy<6.0.0,>=5.2.2->deepbench==0.1.1) (21.3)\n",
      "Requirement already satisfied: future>=0.15.2 in /Users/maggiev-local/miniforge3/lib/python3.9/site-packages (from autograd<2.0,>=1.5->deepbench==0.1.1) (0.18.3)\n",
      "Requirement already satisfied: contourpy>=1.0.1 in /Users/maggiev-local/miniforge3/lib/python3.9/site-packages (from matplotlib<4.0.0,>=3.7.1->deepbench==0.1.1) (1.0.7)\n",
      "Requirement already satisfied: cycler>=0.10 in /Users/maggiev-local/miniforge3/lib/python3.9/site-packages (from matplotlib<4.0.0,>=3.7.1->deepbench==0.1.1) (0.11.0)\n",
      "Requirement already satisfied: fonttools>=4.22.0 in /Users/maggiev-local/miniforge3/lib/python3.9/site-packages (from matplotlib<4.0.0,>=3.7.1->deepbench==0.1.1) (4.34.4)\n",
      "Requirement already satisfied: kiwisolver>=1.0.1 in /Users/maggiev-local/miniforge3/lib/python3.9/site-packages (from matplotlib<4.0.0,>=3.7.1->deepbench==0.1.1) (1.4.4)\n",
      "Requirement already satisfied: pillow>=6.2.0 in /Users/maggiev-local/miniforge3/lib/python3.9/site-packages (from matplotlib<4.0.0,>=3.7.1->deepbench==0.1.1) (9.2.0)\n",
      "Requirement already satisfied: pyparsing>=2.3.1 in /Users/maggiev-local/miniforge3/lib/python3.9/site-packages (from matplotlib<4.0.0,>=3.7.1->deepbench==0.1.1) (3.0.9)\n",
      "Requirement already satisfied: python-dateutil>=2.7 in /Users/maggiev-local/miniforge3/lib/python3.9/site-packages (from matplotlib<4.0.0,>=3.7.1->deepbench==0.1.1) (2.8.2)\n",
      "Requirement already satisfied: importlib-resources>=3.2.0 in /Users/maggiev-local/miniforge3/lib/python3.9/site-packages (from matplotlib<4.0.0,>=3.7.1->deepbench==0.1.1) (5.12.0)\n",
      "Requirement already satisfied: scipy<1.9.2,>=1.8 in /Users/maggiev-local/miniforge3/lib/python3.9/site-packages (from scikit-image<0.21.0,>=0.20.0->deepbench==0.1.1) (1.9.1)\n",
      "Requirement already satisfied: networkx>=2.8 in /Users/maggiev-local/miniforge3/lib/python3.9/site-packages (from scikit-image<0.21.0,>=0.20.0->deepbench==0.1.1) (2.8.5)\n",
      "Requirement already satisfied: imageio>=2.4.1 in /Users/maggiev-local/miniforge3/lib/python3.9/site-packages (from scikit-image<0.21.0,>=0.20.0->deepbench==0.1.1) (2.19.5)\n",
      "Requirement already satisfied: tifffile>=2019.7.26 in /Users/maggiev-local/miniforge3/lib/python3.9/site-packages (from scikit-image<0.21.0,>=0.20.0->deepbench==0.1.1) (2022.5.4)\n",
      "Requirement already satisfied: PyWavelets>=1.1.1 in /Users/maggiev-local/miniforge3/lib/python3.9/site-packages (from scikit-image<0.21.0,>=0.20.0->deepbench==0.1.1) (1.3.0)\n",
      "Requirement already satisfied: lazy_loader>=0.1 in /Users/maggiev-local/miniforge3/lib/python3.9/site-packages (from scikit-image<0.21.0,>=0.20.0->deepbench==0.1.1) (0.2)\n",
      "Requirement already satisfied: zipp>=3.1.0 in /Users/maggiev-local/miniforge3/lib/python3.9/site-packages (from importlib-resources>=3.2.0->matplotlib<4.0.0,>=3.7.1->deepbench==0.1.1) (3.15.0)\n",
      "Requirement already satisfied: six>=1.5 in /Users/maggiev-local/miniforge3/lib/python3.9/site-packages (from python-dateutil>=2.7->matplotlib<4.0.0,>=3.7.1->deepbench==0.1.1) (1.15.0)\n",
      "Building wheels for collected packages: deepbench\n",
      "  Building wheel for deepbench (pyproject.toml) ... \u001b[?25ldone\n",
      "\u001b[?25h  Created wheel for deepbench: filename=deepbench-0.1.1-py3-none-any.whl size=29920 sha256=ce11d8beb7c05e43dbb220d1a7762fee9ae23f18942247874ac0443cc11d91f4\n",
      "  Stored in directory: /private/var/folders/95/_pswfcf9723cb9f4vw6h944m0000gr/T/pip-ephem-wheel-cache-0wh75vhs/wheels/aa/a4/ac/7dd5cb40b68d96aac05a3e2c3c572a3d4119cfe338bfa346a8\n",
      "Successfully built deepbench\n",
      "Installing collected packages: deepbench\n",
      "  Attempting uninstall: deepbench\n",
      "    Found existing installation: deepbench 0.1.0\n",
      "    Uninstalling deepbench-0.1.0:\n",
      "      Successfully uninstalled deepbench-0.1.0\n",
      "Successfully installed deepbench-0.1.1\n"
     ]
    }
   ],
   "source": [
    "# TODO Get this made public\n",
    "! pip install git+https://github.com/deepskies/DeepBench.git\n"
   ]
  },
  {
   "cell_type": "code",
   "execution_count": 97,
   "metadata": {},
   "outputs": [],
   "source": [
    "import numpy as np\n",
    "import matplotlib.pyplot as plt\n",
    "from deepbench.astro_object import StarObject, GalaxyObject \n",
    "\n",
    "from tensorflow.keras.layers import Input, Dropout, Conv1D, Dense, AvgPool1D, Flatten\n",
    "from tensorflow.keras.models import Model\n",
    "\n",
    "import tensorflow as tf \n",
    "\n",
    "import math \n"
   ]
  },
  {
   "cell_type": "code",
   "execution_count": 120,
   "metadata": {},
   "outputs": [],
   "source": [
    "# don't worry too much about how this simulation is being run. It's fine. Don't worry. I promise :3c \n",
    "\n",
    "# This generates data as per the Secret Parameters \n",
    "# I request you don't change anything here or look too closely. \n",
    "# Otherwise! this challenge won't be as fun\n",
    "\n",
    "class SkyGenerator(tf.keras.utils.Sequence): \n",
    "    def __init__(self, n_samples, batch_size=64, pre_processing=None, train=True, shuffle=False):\n",
    "        self.n_samples = n_samples\n",
    "        if train: \n",
    "            self.n_samples = math.ceil(0.25*n_samples)\n",
    "\n",
    "        self.pre_processing = pre_processing\n",
    "\n",
    "        self.batch_size = batch_size\n",
    "        self.shuffle = shuffle\n",
    "\n",
    "        self.image_size = 14\n",
    "        self.noise_level = 0.05\n",
    "\n",
    "        self.rng = np.random.default_rng(seed=42) # Seed for the main notebook\n",
    "\n",
    "        self.labels = self.decide_labels()\n",
    "\n",
    "    def decide_labels(self): \n",
    "        n_stars = self.rng.integers(low=int(.45*self.n_samples), high=int(.65*self.n_samples))\n",
    "        n_galaxies = self.n_samples-n_stars\n",
    "        labels = [0 for _ in range(n_stars)] + [1 for _ in range(n_galaxies)]\n",
    "        if self.shuffle: \n",
    "            self.rng.shuffle(labels)\n",
    "        return np.asarray(labels)\n",
    " \n",
    "    def generate_image(self, label): \n",
    "        radius = self.rng.integers(low=1, high=self.image_size/2)\n",
    "        center_x = self.rng.integers(low=1, high=self.image_size)\n",
    "        center_y = self.rng.integers(low=1, high=self.image_size)\n",
    "\n",
    "        if label == 0: \n",
    "            image = StarObject(\n",
    "                image_dimensions=self.image_size,\n",
    "                noise=self.noise_level,\n",
    "                radius=radius\n",
    "                    ).create_object(\n",
    "                        center_x=center_x, center_y=center_y\n",
    "                        )\n",
    " \n",
    "        else: \n",
    "            image = GalaxyObject(\n",
    "                image_dimensions=self.image_size,\n",
    "                noise_level=self.noise_level,\n",
    "                radius=radius\n",
    "                    ).create_object(\n",
    "                        center_x=center_x, center_y=center_y\n",
    "                        )\n",
    "\n",
    "        if self.pre_processing is not None: \n",
    "            image = self.pre_processing.transform(image)\n",
    "\n",
    "        return image\n",
    "\n",
    "    def __len__(self):\n",
    "        return math.ceil(self.n_samples / self.batch_size)\n",
    "\n",
    "    def __getitem__(self, idx):\n",
    "        low = idx * self.batch_size\n",
    "        high = min(low + self.batch_size, len(self.labels))\n",
    "        batch_y = self.labels[low:high]\n",
    "        batch_x = np.zeros((len(batch_y), self.image_size, self.image_size))\n",
    "        for index, label in enumerate(batch_y): \n",
    "            batch_x[index] = self.generate_image(label)\n",
    "\n",
    "        return batch_x, batch_y"
   ]
  },
  {
   "cell_type": "code",
   "execution_count": 121,
   "metadata": {},
   "outputs": [],
   "source": [
    "def make_model(): \n",
    "    in_layer = Input((14, 14))\n",
    "    x = Conv1D(filters=4, kernel_size=2)(in_layer)\n",
    "    x = Conv1D(filters=8, kernel_size=4)(x)\n",
    "    x = Conv1D(filters=12, kernel_size=6)(x)\n",
    "    \n",
    "    x = AvgPool1D(4)(x)\n",
    "\n",
    "    x = Flatten()(x)\n",
    "    x = Dense(200, activation='relu')(x)\n",
    "    x = Dense(10, activation='relu')(x)\n",
    "\n",
    "    x = Dropout(0.3)(x)\n",
    "    output = Dense(1, activation='sigmoid')(x)\n",
    "    model = Model(in_layer, output)\n",
    "    \n",
    "    return model"
   ]
  },
  {
   "cell_type": "code",
   "execution_count": 122,
   "metadata": {},
   "outputs": [
    {
     "name": "stdout",
     "output_type": "stream",
     "text": [
      "Model: \"model_19\"\n",
      "_________________________________________________________________\n",
      " Layer (type)                Output Shape              Param #   \n",
      "=================================================================\n",
      " input_34 (InputLayer)       [(None, 14, 14)]          0         \n",
      "                                                                 \n",
      " conv1d_76 (Conv1D)          (None, 13, 4)             116       \n",
      "                                                                 \n",
      " conv1d_77 (Conv1D)          (None, 10, 8)             136       \n",
      "                                                                 \n",
      " conv1d_78 (Conv1D)          (None, 5, 12)             588       \n",
      "                                                                 \n",
      " average_pooling1d_23 (Avera  (None, 1, 12)            0         \n",
      " gePooling1D)                                                    \n",
      "                                                                 \n",
      " flatten_20 (Flatten)        (None, 12)                0         \n",
      "                                                                 \n",
      " dense_57 (Dense)            (None, 200)               2600      \n",
      "                                                                 \n",
      " dense_58 (Dense)            (None, 10)                2010      \n",
      "                                                                 \n",
      " dropout_19 (Dropout)        (None, 10)                0         \n",
      "                                                                 \n",
      " dense_59 (Dense)            (None, 1)                 11        \n",
      "                                                                 \n",
      "=================================================================\n",
      "Total params: 5,461\n",
      "Trainable params: 5,461\n",
      "Non-trainable params: 0\n",
      "_________________________________________________________________\n"
     ]
    }
   ],
   "source": [
    "model = make_model()\n",
    "model.compile(loss='binary_crossentropy', optimizer=\"SGD\")\n",
    "model.summary()"
   ]
  },
  {
   "cell_type": "code",
   "execution_count": 125,
   "metadata": {},
   "outputs": [
    {
     "name": "stdout",
     "output_type": "stream",
     "text": [
      "Epoch 1/20\n",
      "3/5 [=================>............] - ETA: 0s - loss: 0.6626"
     ]
    },
    {
     "name": "stderr",
     "output_type": "stream",
     "text": [
      "2023-06-16 12:27:55.553266: I tensorflow/core/grappler/optimizers/custom_graph_optimizer_registry.cc:113] Plugin optimizer for device_type GPU is enabled.\n"
     ]
    },
    {
     "name": "stdout",
     "output_type": "stream",
     "text": [
      "5/5 [==============================] - 1s 175ms/step - loss: 0.6604 - val_loss: 0.6552\n",
      "Epoch 2/20\n",
      "5/5 [==============================] - 1s 141ms/step - loss: 0.6495 - val_loss: 0.6404\n",
      "Epoch 3/20\n",
      "5/5 [==============================] - 1s 144ms/step - loss: 0.6394 - val_loss: 0.6271\n",
      "Epoch 4/20\n",
      "5/5 [==============================] - 1s 144ms/step - loss: 0.6241 - val_loss: 0.6161\n",
      "Epoch 5/20\n",
      "5/5 [==============================] - 1s 141ms/step - loss: 0.6094 - val_loss: 0.6061\n",
      "Epoch 6/20\n",
      "5/5 [==============================] - 1s 141ms/step - loss: 0.6082 - val_loss: 0.5979\n",
      "Epoch 7/20\n",
      "5/5 [==============================] - 1s 141ms/step - loss: 0.6012 - val_loss: 0.5880\n",
      "Epoch 8/20\n",
      "5/5 [==============================] - 1s 143ms/step - loss: 0.5888 - val_loss: 0.5826\n",
      "Epoch 9/20\n",
      "5/5 [==============================] - 1s 143ms/step - loss: 0.5766 - val_loss: 0.5670\n",
      "Epoch 10/20\n",
      "5/5 [==============================] - 1s 142ms/step - loss: 0.5744 - val_loss: 0.5641\n",
      "Epoch 11/20\n",
      "5/5 [==============================] - 1s 146ms/step - loss: 0.5757 - val_loss: 0.5552\n",
      "Epoch 12/20\n",
      "5/5 [==============================] - 1s 157ms/step - loss: 0.5598 - val_loss: 0.5495\n",
      "Epoch 13/20\n",
      "5/5 [==============================] - 1s 145ms/step - loss: 0.5626 - val_loss: 0.5449\n",
      "Epoch 14/20\n",
      "5/5 [==============================] - 1s 147ms/step - loss: 0.5563 - val_loss: 0.5373\n",
      "Epoch 15/20\n",
      "5/5 [==============================] - 1s 147ms/step - loss: 0.5509 - val_loss: 0.5296\n",
      "Epoch 16/20\n",
      "5/5 [==============================] - 1s 142ms/step - loss: 0.5445 - val_loss: 0.5289\n",
      "Epoch 17/20\n",
      "5/5 [==============================] - 1s 143ms/step - loss: 0.5323 - val_loss: 0.5233\n",
      "Epoch 18/20\n",
      "5/5 [==============================] - 1s 142ms/step - loss: 0.5161 - val_loss: 0.5164\n",
      "Epoch 19/20\n",
      "5/5 [==============================] - 1s 143ms/step - loss: 0.5204 - val_loss: 0.5085\n",
      "Epoch 20/20\n",
      "5/5 [==============================] - 1s 143ms/step - loss: 0.5104 - val_loss: 0.5015\n"
     ]
    }
   ],
   "source": [
    "train_generator = SkyGenerator(n_samples=1280, shuffle=True)\n",
    "val_generator = SkyGenerator(n_samples=1280, train=False, shuffle=True)\n",
    "history = model.fit(\n",
    "    train_generator, \n",
    "    validation_data=val_generator, \n",
    "    epochs=20, \n",
    "    verbose=1\n",
    "    ).history\n"
   ]
  },
  {
   "cell_type": "code",
   "execution_count": 48,
   "metadata": {},
   "outputs": [],
   "source": [
    "# Plot history\n"
   ]
  },
  {
   "cell_type": "code",
   "execution_count": null,
   "metadata": {},
   "outputs": [],
   "source": [
    "# Making a different testing set (So people can see the in-domain vs out-of-domain)\n",
    "testing_set = {}\n",
    "testing_generator = {}"
   ]
  },
  {
   "cell_type": "code",
   "execution_count": null,
   "metadata": {},
   "outputs": [],
   "source": [
    "# Metrics and evaluation"
   ]
  }
 ],
 "metadata": {
  "kernelspec": {
   "display_name": "base",
   "language": "python",
   "name": "python3"
  },
  "language_info": {
   "codemirror_mode": {
    "name": "ipython",
    "version": 3
   },
   "file_extension": ".py",
   "mimetype": "text/x-python",
   "name": "python",
   "nbconvert_exporter": "python",
   "pygments_lexer": "ipython3",
   "version": "3.9.13"
  },
  "orig_nbformat": 4
 },
 "nbformat": 4,
 "nbformat_minor": 2
}
