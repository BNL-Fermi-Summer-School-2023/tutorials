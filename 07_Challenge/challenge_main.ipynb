{
 "cells": [
  {
   "cell_type": "code",
   "execution_count": null,
   "metadata": {},
   "outputs": [],
   "source": [
    "## This is the answer guide notebook \n",
    "## It has the un-modified data and good hyperparams"
   ]
  },
  {
   "cell_type": "code",
   "execution_count": 26,
   "metadata": {},
   "outputs": [
    {
     "name": "stdout",
     "output_type": "stream",
     "text": [
      "Collecting git+https://github.com/deepskies/DeepBench.git@bug/import\n",
      "  Cloning https://github.com/deepskies/DeepBench.git (to revision bug/import) to /private/var/folders/95/_pswfcf9723cb9f4vw6h944m0000gr/T/pip-req-build-gt72anhg\n",
      "  Running command git clone --filter=blob:none --quiet https://github.com/deepskies/DeepBench.git /private/var/folders/95/_pswfcf9723cb9f4vw6h944m0000gr/T/pip-req-build-gt72anhg\n",
      "  Running command git checkout -b bug/import --track origin/bug/import\n",
      "  Switched to a new branch 'bug/import'\n",
      "  branch 'bug/import' set up to track 'origin/bug/import'.\n",
      "  Resolved https://github.com/deepskies/DeepBench.git to commit 2718040cd0fd0d51b78146f42cbe684d70f103b1\n",
      "  Installing build dependencies ... \u001b[?25ldone\n",
      "\u001b[?25h  Getting requirements to build wheel ... \u001b[?25ldone\n",
      "\u001b[?25h  Preparing metadata (pyproject.toml) ... \u001b[?25ldone\n",
      "\u001b[?25hRequirement already satisfied: astropy<6.0.0,>=5.2.2 in /Users/maggiev-local/miniforge3/lib/python3.9/site-packages (from deepbench==0.1.1) (5.3)\n",
      "Requirement already satisfied: autograd<2.0,>=1.5 in /Users/maggiev-local/miniforge3/lib/python3.9/site-packages (from deepbench==0.1.1) (1.5)\n",
      "Requirement already satisfied: matplotlib<4.0.0,>=3.7.1 in /Users/maggiev-local/miniforge3/lib/python3.9/site-packages (from deepbench==0.1.1) (3.7.1)\n",
      "Requirement already satisfied: numpy<2.0.0,>=1.24.3 in /Users/maggiev-local/miniforge3/lib/python3.9/site-packages (from deepbench==0.1.1) (1.24.3)\n",
      "Requirement already satisfied: pyyaml<7.0,>=6.0 in /Users/maggiev-local/miniforge3/lib/python3.9/site-packages (from deepbench==0.1.1) (6.0)\n",
      "Requirement already satisfied: scikit-image<0.21.0,>=0.20.0 in /Users/maggiev-local/miniforge3/lib/python3.9/site-packages (from deepbench==0.1.1) (0.20.0)\n",
      "Requirement already satisfied: pyerfa>=2.0 in /Users/maggiev-local/miniforge3/lib/python3.9/site-packages (from astropy<6.0.0,>=5.2.2->deepbench==0.1.1) (2.0.0)\n",
      "Requirement already satisfied: packaging>=19.0 in /Users/maggiev-local/miniforge3/lib/python3.9/site-packages (from astropy<6.0.0,>=5.2.2->deepbench==0.1.1) (21.3)\n",
      "Requirement already satisfied: future>=0.15.2 in /Users/maggiev-local/miniforge3/lib/python3.9/site-packages (from autograd<2.0,>=1.5->deepbench==0.1.1) (0.18.3)\n",
      "Requirement already satisfied: contourpy>=1.0.1 in /Users/maggiev-local/miniforge3/lib/python3.9/site-packages (from matplotlib<4.0.0,>=3.7.1->deepbench==0.1.1) (1.0.7)\n",
      "Requirement already satisfied: cycler>=0.10 in /Users/maggiev-local/miniforge3/lib/python3.9/site-packages (from matplotlib<4.0.0,>=3.7.1->deepbench==0.1.1) (0.11.0)\n",
      "Requirement already satisfied: fonttools>=4.22.0 in /Users/maggiev-local/miniforge3/lib/python3.9/site-packages (from matplotlib<4.0.0,>=3.7.1->deepbench==0.1.1) (4.34.4)\n",
      "Requirement already satisfied: kiwisolver>=1.0.1 in /Users/maggiev-local/miniforge3/lib/python3.9/site-packages (from matplotlib<4.0.0,>=3.7.1->deepbench==0.1.1) (1.4.4)\n",
      "Requirement already satisfied: pillow>=6.2.0 in /Users/maggiev-local/miniforge3/lib/python3.9/site-packages (from matplotlib<4.0.0,>=3.7.1->deepbench==0.1.1) (9.2.0)\n",
      "Requirement already satisfied: pyparsing>=2.3.1 in /Users/maggiev-local/miniforge3/lib/python3.9/site-packages (from matplotlib<4.0.0,>=3.7.1->deepbench==0.1.1) (3.0.9)\n",
      "Requirement already satisfied: python-dateutil>=2.7 in /Users/maggiev-local/miniforge3/lib/python3.9/site-packages (from matplotlib<4.0.0,>=3.7.1->deepbench==0.1.1) (2.8.2)\n",
      "Requirement already satisfied: importlib-resources>=3.2.0 in /Users/maggiev-local/miniforge3/lib/python3.9/site-packages (from matplotlib<4.0.0,>=3.7.1->deepbench==0.1.1) (5.12.0)\n",
      "Requirement already satisfied: scipy<1.9.2,>=1.8 in /Users/maggiev-local/miniforge3/lib/python3.9/site-packages (from scikit-image<0.21.0,>=0.20.0->deepbench==0.1.1) (1.9.1)\n",
      "Requirement already satisfied: networkx>=2.8 in /Users/maggiev-local/miniforge3/lib/python3.9/site-packages (from scikit-image<0.21.0,>=0.20.0->deepbench==0.1.1) (2.8.5)\n",
      "Requirement already satisfied: imageio>=2.4.1 in /Users/maggiev-local/miniforge3/lib/python3.9/site-packages (from scikit-image<0.21.0,>=0.20.0->deepbench==0.1.1) (2.19.5)\n",
      "Requirement already satisfied: tifffile>=2019.7.26 in /Users/maggiev-local/miniforge3/lib/python3.9/site-packages (from scikit-image<0.21.0,>=0.20.0->deepbench==0.1.1) (2022.5.4)\n",
      "Requirement already satisfied: PyWavelets>=1.1.1 in /Users/maggiev-local/miniforge3/lib/python3.9/site-packages (from scikit-image<0.21.0,>=0.20.0->deepbench==0.1.1) (1.3.0)\n",
      "Requirement already satisfied: lazy_loader>=0.1 in /Users/maggiev-local/miniforge3/lib/python3.9/site-packages (from scikit-image<0.21.0,>=0.20.0->deepbench==0.1.1) (0.2)\n",
      "Requirement already satisfied: zipp>=3.1.0 in /Users/maggiev-local/miniforge3/lib/python3.9/site-packages (from importlib-resources>=3.2.0->matplotlib<4.0.0,>=3.7.1->deepbench==0.1.1) (3.15.0)\n",
      "Requirement already satisfied: six>=1.5 in /Users/maggiev-local/miniforge3/lib/python3.9/site-packages (from python-dateutil>=2.7->matplotlib<4.0.0,>=3.7.1->deepbench==0.1.1) (1.15.0)\n",
      "Building wheels for collected packages: deepbench\n",
      "  Building wheel for deepbench (pyproject.toml) ... \u001b[?25ldone\n",
      "\u001b[?25h  Created wheel for deepbench: filename=deepbench-0.1.1-py3-none-any.whl size=29920 sha256=ce11d8beb7c05e43dbb220d1a7762fee9ae23f18942247874ac0443cc11d91f4\n",
      "  Stored in directory: /private/var/folders/95/_pswfcf9723cb9f4vw6h944m0000gr/T/pip-ephem-wheel-cache-0wh75vhs/wheels/aa/a4/ac/7dd5cb40b68d96aac05a3e2c3c572a3d4119cfe338bfa346a8\n",
      "Successfully built deepbench\n",
      "Installing collected packages: deepbench\n",
      "  Attempting uninstall: deepbench\n",
      "    Found existing installation: deepbench 0.1.0\n",
      "    Uninstalling deepbench-0.1.0:\n",
      "      Successfully uninstalled deepbench-0.1.0\n",
      "Successfully installed deepbench-0.1.1\n"
     ]
    }
   ],
   "source": [
    "# TODO Get this made public\n",
    "! pip install git+https://github.com/deepskies/DeepBench.git\n"
   ]
  },
  {
   "cell_type": "code",
   "execution_count": 3,
   "metadata": {},
   "outputs": [
    {
     "name": "stderr",
     "output_type": "stream",
     "text": [
      "/Users/maggiev-local/miniforge3/lib/python3.9/site-packages/requests/__init__.py:102: RequestsDependencyWarning: urllib3 (1.26.9) or chardet (5.0.0)/charset_normalizer (2.0.12) doesn't match a supported version!\n",
      "  warnings.warn(\"urllib3 ({}) or chardet ({})/charset_normalizer ({}) doesn't match a supported \"\n"
     ]
    }
   ],
   "source": [
    "import numpy as np\n",
    "import matplotlib.pyplot as plt\n",
    "from deepbench.astro_object import StarObject, GalaxyObject \n",
    "\n",
    "from tensorflow.keras.layers import Input, Dropout, Conv1D, Dense, AvgPool1D, Flatten\n",
    "from tensorflow.keras.models import Model\n",
    "\n",
    "import tensorflow as tf \n",
    "\n",
    "import math \n",
    "from sklearn.metrics import roc_curve, confusion_matrix\n"
   ]
  },
  {
   "cell_type": "code",
   "execution_count": 10,
   "metadata": {},
   "outputs": [],
   "source": [
    "# don't worry too much about how this simulation is being run. It's fine. Don't worry. I promise :3c \n",
    "\n",
    "# This generates data as per the Secret Parameters \n",
    "# I request you don't change anything here or look too closely. \n",
    "# Otherwise! this challenge won't be as fun\n",
    "\n",
    "class SkyGenerator(tf.keras.utils.Sequence): \n",
    "    def __init__(self, n_samples, batch_size=64, pre_processing=None, train=True, shuffle=False):\n",
    "        self.n_samples = n_samples\n",
    "\n",
    "        self.pre_processing = pre_processing\n",
    "\n",
    "        self.batch_size = batch_size\n",
    "        self.shuffle = shuffle\n",
    "\n",
    "        self.image_size = 28\n",
    "        self.noise_level = 0.05\n",
    "\n",
    "        self.rng = np.random.default_rng(seed=42) # Seed for the main notebook\n",
    "\n",
    "        self.labels = self.decide_labels()\n",
    "\n",
    "    def decide_labels(self): \n",
    "        n_stars = self.rng.integers(low=int(.45*self.n_samples), high=int(.65*self.n_samples))\n",
    "        n_galaxies = self.n_samples-n_stars\n",
    "        labels = [0 for _ in range(n_stars)] + [1 for _ in range(n_galaxies)]\n",
    "        if self.shuffle: \n",
    "            self.rng.shuffle(labels)\n",
    "        return np.asarray(labels)\n",
    " \n",
    "    def generate_image(self, label): \n",
    "        radius = self.rng.integers(low=1, high=self.image_size/2)\n",
    "        center_x = self.rng.integers(low=1, high=self.image_size)\n",
    "        center_y = self.rng.integers(low=1, high=self.image_size)\n",
    "\n",
    "        if label == 0: \n",
    "            image = StarObject(\n",
    "                image_dimensions=self.image_size,\n",
    "                noise=self.noise_level,\n",
    "                radius=radius\n",
    "                    ).create_object(\n",
    "                        center_x=center_x, center_y=center_y\n",
    "                        )\n",
    " \n",
    "        else: \n",
    "            image = GalaxyObject(\n",
    "                image_dimensions=self.image_size,\n",
    "                noise_level=self.noise_level,\n",
    "                radius=radius\n",
    "                    ).create_object(\n",
    "                        center_x=center_x, center_y=center_y\n",
    "                        )\n",
    "\n",
    "        if self.pre_processing is not None: \n",
    "            image = self.pre_processing.transform(image)\n",
    "\n",
    "        return image\n",
    "\n",
    "    def __len__(self):\n",
    "        return math.ceil(self.n_samples / self.batch_size)\n",
    "\n",
    "    def __getitem__(self, idx):\n",
    "        low = idx * self.batch_size\n",
    "        high = min(low + self.batch_size, len(self.labels))\n",
    "        batch_y = self.labels[low:high]\n",
    "        batch_x = np.zeros((len(batch_y), self.image_size, self.image_size))\n",
    "        for index, label in enumerate(batch_y): \n",
    "            batch_x[index] = self.generate_image(label)\n",
    "\n",
    "        return batch_x, batch_y"
   ]
  },
  {
   "cell_type": "code",
   "execution_count": 26,
   "metadata": {},
   "outputs": [],
   "source": [
    "def make_model(): \n",
    "    in_layer = Input((28, 28))\n",
    "    x = Conv1D(filters=4, kernel_size=2)(in_layer)\n",
    "    x = Conv1D(filters=8, kernel_size=4)(x)\n",
    "    x = Conv1D(filters=12, kernel_size=6)(x)\n",
    "    \n",
    "    x = AvgPool1D(6)(x)\n",
    "\n",
    "    x = Conv1D(filters=4, kernel_size=2)(in_layer)\n",
    "    x = Conv1D(filters=8, kernel_size=4)(x)\n",
    "    x = Conv1D(filters=12, kernel_size=6)(x)\n",
    "    \n",
    "    x = AvgPool1D(6)(x)\n",
    "\n",
    "    x = Flatten()(x)\n",
    "    x = Dense(20, activation='relu')(x)\n",
    "\n",
    "    x = Dropout(0.3)(x)\n",
    "    output = Dense(1, activation='sigmoid')(x)\n",
    "    model = Model(in_layer, output)\n",
    "    \n",
    "    return model"
   ]
  },
  {
   "cell_type": "code",
   "execution_count": 27,
   "metadata": {},
   "outputs": [
    {
     "name": "stdout",
     "output_type": "stream",
     "text": [
      "Model: \"model_4\"\n",
      "_________________________________________________________________\n",
      " Layer (type)                Output Shape              Param #   \n",
      "=================================================================\n",
      " input_5 (InputLayer)        [(None, 28, 28)]          0         \n",
      "                                                                 \n",
      " conv1d_21 (Conv1D)          (None, 27, 4)             228       \n",
      "                                                                 \n",
      " conv1d_22 (Conv1D)          (None, 24, 8)             136       \n",
      "                                                                 \n",
      " conv1d_23 (Conv1D)          (None, 19, 12)            588       \n",
      "                                                                 \n",
      " average_pooling1d_7 (Averag  (None, 3, 12)            0         \n",
      " ePooling1D)                                                     \n",
      "                                                                 \n",
      " flatten_4 (Flatten)         (None, 36)                0         \n",
      "                                                                 \n",
      " dense_12 (Dense)            (None, 20)                740       \n",
      "                                                                 \n",
      " dropout_4 (Dropout)         (None, 20)                0         \n",
      "                                                                 \n",
      " dense_13 (Dense)            (None, 1)                 21        \n",
      "                                                                 \n",
      "=================================================================\n",
      "Total params: 1,713\n",
      "Trainable params: 1,713\n",
      "Non-trainable params: 0\n",
      "_________________________________________________________________\n"
     ]
    }
   ],
   "source": [
    "model = make_model()\n",
    "model.compile(loss='binary_crossentropy', optimizer=tf.keras.optimizers.SGD(0.01))\n",
    "model.summary()"
   ]
  },
  {
   "cell_type": "code",
   "execution_count": 28,
   "metadata": {},
   "outputs": [
    {
     "name": "stdout",
     "output_type": "stream",
     "text": [
      "Epoch 1/80\n"
     ]
    },
    {
     "name": "stderr",
     "output_type": "stream",
     "text": [
      "2023-06-21 08:09:27.752318: I tensorflow/core/grappler/optimizers/custom_graph_optimizer_registry.cc:113] Plugin optimizer for device_type GPU is enabled.\n"
     ]
    },
    {
     "name": "stdout",
     "output_type": "stream",
     "text": [
      "4/5 [=======================>......] - ETA: 0s - loss: 0.5868"
     ]
    },
    {
     "name": "stderr",
     "output_type": "stream",
     "text": [
      "2023-06-21 08:09:28.137094: I tensorflow/core/grappler/optimizers/custom_graph_optimizer_registry.cc:113] Plugin optimizer for device_type GPU is enabled.\n"
     ]
    },
    {
     "name": "stdout",
     "output_type": "stream",
     "text": [
      "5/5 [==============================] - 1s 175ms/step - loss: 0.5909 - val_loss: 0.5964\n",
      "Epoch 2/80\n",
      "5/5 [==============================] - 1s 152ms/step - loss: 0.5809 - val_loss: 0.5781\n",
      "Epoch 3/80\n",
      "5/5 [==============================] - 1s 148ms/step - loss: 0.5726 - val_loss: 0.5660\n",
      "Epoch 4/80\n",
      "5/5 [==============================] - 1s 147ms/step - loss: 0.5740 - val_loss: 0.5570\n",
      "Epoch 5/80\n",
      "5/5 [==============================] - 1s 147ms/step - loss: 0.5417 - val_loss: 0.5499\n",
      "Epoch 6/80\n",
      "5/5 [==============================] - 1s 147ms/step - loss: 0.5556 - val_loss: 0.5359\n",
      "Epoch 7/80\n",
      "5/5 [==============================] - 1s 147ms/step - loss: 0.5311 - val_loss: 0.5235\n",
      "Epoch 8/80\n",
      "5/5 [==============================] - 1s 148ms/step - loss: 0.5331 - val_loss: 0.5137\n",
      "Epoch 9/80\n",
      "5/5 [==============================] - 1s 148ms/step - loss: 0.5072 - val_loss: 0.4923\n",
      "Epoch 10/80\n",
      "5/5 [==============================] - 1s 148ms/step - loss: 0.4869 - val_loss: 0.4904\n",
      "Epoch 11/80\n",
      "5/5 [==============================] - 1s 149ms/step - loss: 0.4900 - val_loss: 0.4792\n",
      "Epoch 12/80\n",
      "5/5 [==============================] - 1s 148ms/step - loss: 0.4653 - val_loss: 0.4622\n",
      "Epoch 13/80\n",
      "5/5 [==============================] - 1s 154ms/step - loss: 0.4607 - val_loss: 0.4557\n",
      "Epoch 14/80\n",
      "5/5 [==============================] - 1s 152ms/step - loss: 0.4577 - val_loss: 0.4373\n",
      "Epoch 15/80\n",
      "5/5 [==============================] - 1s 150ms/step - loss: 0.4387 - val_loss: 0.4303\n",
      "Epoch 16/80\n",
      "5/5 [==============================] - 1s 148ms/step - loss: 0.4240 - val_loss: 0.4231\n",
      "Epoch 17/80\n",
      "5/5 [==============================] - 1s 149ms/step - loss: 0.4247 - val_loss: 0.4099\n",
      "Epoch 18/80\n",
      "5/5 [==============================] - 1s 150ms/step - loss: 0.3983 - val_loss: 0.3944\n",
      "Epoch 19/80\n",
      "5/5 [==============================] - 1s 149ms/step - loss: 0.4034 - val_loss: 0.3829\n",
      "Epoch 20/80\n",
      "5/5 [==============================] - 1s 148ms/step - loss: 0.3895 - val_loss: 0.3629\n",
      "Epoch 21/80\n",
      "5/5 [==============================] - 1s 149ms/step - loss: 0.3726 - val_loss: 0.3501\n",
      "Epoch 22/80\n",
      "5/5 [==============================] - 1s 148ms/step - loss: 0.3700 - val_loss: 0.3342\n",
      "Epoch 23/80\n",
      "5/5 [==============================] - 1s 147ms/step - loss: 0.3538 - val_loss: 0.3282\n",
      "Epoch 24/80\n",
      "5/5 [==============================] - 1s 148ms/step - loss: 0.3379 - val_loss: 0.3212\n",
      "Epoch 25/80\n",
      "5/5 [==============================] - 1s 148ms/step - loss: 0.3276 - val_loss: 0.3175\n",
      "Epoch 26/80\n",
      "5/5 [==============================] - 1s 149ms/step - loss: 0.3191 - val_loss: 0.2876\n",
      "Epoch 27/80\n",
      "5/5 [==============================] - 1s 148ms/step - loss: 0.2949 - val_loss: 0.2840\n",
      "Epoch 28/80\n",
      "5/5 [==============================] - 1s 148ms/step - loss: 0.2891 - val_loss: 0.2641\n",
      "Epoch 29/80\n",
      "5/5 [==============================] - 1s 149ms/step - loss: 0.2788 - val_loss: 0.2560\n",
      "Epoch 30/80\n",
      "5/5 [==============================] - 1s 148ms/step - loss: 0.2671 - val_loss: 0.2422\n",
      "Epoch 31/80\n",
      "5/5 [==============================] - 1s 149ms/step - loss: 0.2602 - val_loss: 0.2240\n",
      "Epoch 32/80\n",
      "5/5 [==============================] - 1s 150ms/step - loss: 0.2393 - val_loss: 0.2203\n",
      "Epoch 33/80\n",
      "5/5 [==============================] - 1s 148ms/step - loss: 0.2434 - val_loss: 0.2127\n",
      "Epoch 34/80\n",
      "5/5 [==============================] - 1s 149ms/step - loss: 0.2302 - val_loss: 0.1991\n",
      "Epoch 35/80\n",
      "5/5 [==============================] - 1s 149ms/step - loss: 0.2072 - val_loss: 0.1848\n",
      "Epoch 36/80\n",
      "5/5 [==============================] - 1s 148ms/step - loss: 0.1945 - val_loss: 0.1783\n",
      "Epoch 37/80\n",
      "5/5 [==============================] - 1s 148ms/step - loss: 0.1882 - val_loss: 0.1755\n",
      "Epoch 38/80\n",
      "5/5 [==============================] - 1s 147ms/step - loss: 0.1922 - val_loss: 0.1704\n",
      "Epoch 39/80\n",
      "5/5 [==============================] - 1s 149ms/step - loss: 0.1699 - val_loss: 0.1563\n",
      "Epoch 40/80\n",
      "5/5 [==============================] - 1s 148ms/step - loss: 0.1761 - val_loss: 0.1542\n",
      "Epoch 41/80\n",
      "5/5 [==============================] - 1s 147ms/step - loss: 0.1718 - val_loss: 0.1376\n",
      "Epoch 42/80\n",
      "5/5 [==============================] - 1s 147ms/step - loss: 0.1669 - val_loss: 0.1337\n",
      "Epoch 43/80\n",
      "5/5 [==============================] - 1s 147ms/step - loss: 0.1486 - val_loss: 0.1227\n",
      "Epoch 44/80\n",
      "5/5 [==============================] - 1s 148ms/step - loss: 0.1498 - val_loss: 0.1204\n",
      "Epoch 45/80\n",
      "5/5 [==============================] - 1s 147ms/step - loss: 0.1478 - val_loss: 0.1207\n",
      "Epoch 46/80\n",
      "5/5 [==============================] - 1s 148ms/step - loss: 0.1375 - val_loss: 0.1121\n",
      "Epoch 47/80\n",
      "5/5 [==============================] - 1s 148ms/step - loss: 0.1226 - val_loss: 0.1099\n",
      "Epoch 48/80\n",
      "5/5 [==============================] - 1s 148ms/step - loss: 0.1277 - val_loss: 0.0949\n",
      "Epoch 49/80\n",
      "5/5 [==============================] - 1s 148ms/step - loss: 0.1236 - val_loss: 0.0872\n",
      "Epoch 50/80\n",
      "5/5 [==============================] - 1s 147ms/step - loss: 0.1114 - val_loss: 0.0912\n",
      "Epoch 51/80\n",
      "5/5 [==============================] - 1s 148ms/step - loss: 0.1123 - val_loss: 0.0879\n",
      "Epoch 52/80\n",
      "5/5 [==============================] - 1s 149ms/step - loss: 0.1115 - val_loss: 0.0793\n",
      "Epoch 53/80\n",
      "5/5 [==============================] - 1s 148ms/step - loss: 0.1196 - val_loss: 0.0764\n",
      "Epoch 54/80\n",
      "5/5 [==============================] - 1s 150ms/step - loss: 0.0946 - val_loss: 0.0763\n",
      "Epoch 55/80\n",
      "5/5 [==============================] - 1s 148ms/step - loss: 0.0900 - val_loss: 0.0720\n",
      "Epoch 56/80\n",
      "5/5 [==============================] - 1s 148ms/step - loss: 0.0857 - val_loss: 0.0642\n",
      "Epoch 57/80\n",
      "5/5 [==============================] - 1s 148ms/step - loss: 0.0872 - val_loss: 0.0654\n",
      "Epoch 58/80\n",
      "5/5 [==============================] - 1s 147ms/step - loss: 0.0843 - val_loss: 0.0602\n",
      "Epoch 59/80\n",
      "5/5 [==============================] - 1s 148ms/step - loss: 0.0828 - val_loss: 0.0560\n",
      "Epoch 60/80\n",
      "5/5 [==============================] - 1s 187ms/step - loss: 0.0708 - val_loss: 0.0544\n",
      "Epoch 61/80\n",
      "5/5 [==============================] - 1s 149ms/step - loss: 0.0694 - val_loss: 0.0544\n",
      "Epoch 62/80\n",
      "5/5 [==============================] - 1s 148ms/step - loss: 0.0697 - val_loss: 0.0493\n",
      "Epoch 63/80\n",
      "5/5 [==============================] - 1s 149ms/step - loss: 0.0766 - val_loss: 0.0465\n",
      "Epoch 64/80\n",
      "5/5 [==============================] - 1s 150ms/step - loss: 0.0696 - val_loss: 0.0445\n",
      "Epoch 65/80\n",
      "5/5 [==============================] - 1s 149ms/step - loss: 0.0697 - val_loss: 0.0450\n",
      "Epoch 66/80\n",
      "5/5 [==============================] - 1s 149ms/step - loss: 0.0637 - val_loss: 0.0415\n",
      "Epoch 67/80\n",
      "5/5 [==============================] - 1s 149ms/step - loss: 0.0621 - val_loss: 0.0391\n",
      "Epoch 68/80\n",
      "5/5 [==============================] - 1s 149ms/step - loss: 0.0654 - val_loss: 0.0365\n",
      "Epoch 69/80\n",
      "5/5 [==============================] - 1s 149ms/step - loss: 0.0573 - val_loss: 0.0431\n",
      "Epoch 70/80\n",
      "5/5 [==============================] - 1s 149ms/step - loss: 0.0599 - val_loss: 0.0343\n",
      "Epoch 71/80\n",
      "5/5 [==============================] - 1s 148ms/step - loss: 0.0577 - val_loss: 0.0329\n",
      "Epoch 72/80\n",
      "5/5 [==============================] - 1s 150ms/step - loss: 0.0563 - val_loss: 0.0317\n",
      "Epoch 73/80\n",
      "5/5 [==============================] - 1s 149ms/step - loss: 0.0518 - val_loss: 0.0342\n",
      "Epoch 74/80\n",
      "5/5 [==============================] - 1s 150ms/step - loss: 0.0490 - val_loss: 0.0326\n",
      "Epoch 75/80\n",
      "5/5 [==============================] - 1s 149ms/step - loss: 0.0451 - val_loss: 0.0274\n",
      "Epoch 76/80\n",
      "5/5 [==============================] - 1s 150ms/step - loss: 0.0439 - val_loss: 0.0299\n",
      "Epoch 77/80\n",
      "5/5 [==============================] - 1s 149ms/step - loss: 0.0595 - val_loss: 0.0275\n",
      "Epoch 78/80\n",
      "5/5 [==============================] - 1s 149ms/step - loss: 0.0379 - val_loss: 0.0244\n",
      "Epoch 79/80\n",
      "5/5 [==============================] - 1s 149ms/step - loss: 0.0496 - val_loss: 0.0269\n",
      "Epoch 80/80\n",
      "5/5 [==============================] - 1s 151ms/step - loss: 0.0412 - val_loss: 0.0233\n"
     ]
    }
   ],
   "source": [
    "train_generator = SkyGenerator(n_samples=1280, shuffle=True)\n",
    "val_generator = SkyGenerator(n_samples=1280, train=False, shuffle=True)\n",
    "\n",
    "history = model.fit(\n",
    "    train_generator, \n",
    "    validation_data=val_generator, \n",
    "    epochs=80, \n",
    "    verbose=1\n",
    "    ).history\n"
   ]
  },
  {
   "cell_type": "code",
   "execution_count": 29,
   "metadata": {},
   "outputs": [
    {
     "data": {
      "image/png": "[encoded data removed]",
      "text/plain": [
       "<Figure size 640x480 with 1 Axes>"
      ]
     },
     "metadata": {},
     "output_type": "display_data"
    }
   ],
   "source": [
    "# Plot history\n",
    "def plot_history(history): \n",
    "    loss = history['loss']\n",
    "    epochs = range(len(loss))\n",
    "\n",
    "    val_loss = history['val_loss']\n",
    "\n",
    "    plt.plot(epochs, loss, label=\"Train\")\n",
    "    plt.plot(epochs, val_loss, label='Validation')\n",
    "\n",
    "    plt.title(\"Loss History\")\n",
    "    plt.xlabel(\"Epoch\")\n",
    "    plt.ylabel(\"Loss\")\n",
    "    plt.legend()\n",
    "    plt.show()\n",
    "\n",
    "plot_history(history)"
   ]
  },
  {
   "cell_type": "code",
   "execution_count": 57,
   "metadata": {},
   "outputs": [],
   "source": [
    "# Making a different testing set (So people can see the in-domain vs out-of-domain)\n",
    "\n",
    "test_generator = SkyGenerator(n_samples=1280, train=False, shuffle=True)\n",
    "\n",
    "def make_prediction(test_generator): \n",
    "    predictions = model.predict(test_generator)\n",
    "    prediction_classes = np.where(predictions<0.5, 0, 1) # Challenge - make this backwards\n",
    "    labels = test_generator.labels\n",
    "    return prediction_classes, labels\n",
    "\n",
    "def test_quality(prediction, labels): \n",
    "    accuracy = tf.keras.metrics.BinaryAccuracy()(prediction, labels)\n",
    "    return accuracy.numpy()"
   ]
  },
  {
   "cell_type": "code",
   "execution_count": 59,
   "metadata": {},
   "outputs": [
    {
     "name": "stdout",
     "output_type": "stream",
     "text": [
      "20/20 [==============================] - 1s 25ms/step\n"
     ]
    },
    {
     "data": {
      "text/plain": [
       "0.99921876"
      ]
     },
     "execution_count": 59,
     "metadata": {},
     "output_type": "execute_result"
    }
   ],
   "source": [
    "prediction, labels = make_prediction(test_generator)\n",
    "\n",
    "test_quality(prediction, labels)"
   ]
  },
  {
   "cell_type": "code",
   "execution_count": 60,
   "metadata": {},
   "outputs": [
    {
     "data": {
      "image/png": "[encoded data removed]",
      "text/plain": [
       "<Figure size 640x480 with 1 Axes>"
      ]
     },
     "metadata": {},
     "output_type": "display_data"
    },
    {
     "data": {
      "image/png": "[encoded data removed]",
      "text/plain": [
       "<Figure size 640x480 with 1 Axes>"
      ]
     },
     "metadata": {},
     "output_type": "display_data"
    }
   ],
   "source": [
    "# Metrics and evaluation\n",
    "def plot_test_results(predictions, labels):\n",
    "    score_fpr, score_tpr, _ = roc_curve(labels, predictions)\n",
    "    confusion = confusion_matrix(labels.ravel(), predictions.ravel())\n",
    "\n",
    "    plt.plot(score_fpr, score_tpr)\n",
    "    plt.xlabel(\"FPR\")\n",
    "    plt.ylabel(\"TPR\")\n",
    "    plt.title(\"ROC AUC Curve\")\n",
    "    plt.show()\n",
    "\n",
    "\n",
    "    plt.imshow(confusion)\n",
    "\n",
    "    for true in range(confusion.shape[0]):\n",
    "        for predicted in range(confusion.shape[1]):\n",
    "            plt.text(predicted, true, confusion[true, predicted],\n",
    "                        ha=\"center\", va=\"center\")\n",
    "            \n",
    "    plt.xlabel(\"Predicted\")\n",
    "    plt.ylabel(\"True\")\n",
    "    plt.title(\"Confusion Matrix\")\n",
    "    plt.show()\n",
    "\n",
    "plot_test_results(prediction, labels)"
   ]
  },
  {
   "cell_type": "code",
   "execution_count": null,
   "metadata": {},
   "outputs": [],
   "source": []
  }
 ],
 "metadata": {
  "kernelspec": {
   "display_name": "base",
   "language": "python",
   "name": "python3"
  },
  "language_info": {
   "codemirror_mode": {
    "name": "ipython",
    "version": 3
   },
   "file_extension": ".py",
   "mimetype": "text/x-python",
   "name": "python",
   "nbconvert_exporter": "python",
   "pygments_lexer": "ipython3",
   "version": "3.9.13"
  },
  "orig_nbformat": 4
 },
 "nbformat": 4,
 "nbformat_minor": 2
}
